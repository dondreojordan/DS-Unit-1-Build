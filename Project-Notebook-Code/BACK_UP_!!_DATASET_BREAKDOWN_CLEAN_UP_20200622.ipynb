{
  "nbformat": 4,
  "nbformat_minor": 0,
  "metadata": {
    "colab": {
      "name": "BACK UP !! DATASET BREAKDOWN / CLEAN UP_20200622.ipynb",
      "provenance": [],
      "authorship_tag": "ABX9TyNWVRUDiTTOhJIjb6VGbWWs",
      "include_colab_link": true
    },
    "kernelspec": {
      "name": "python3",
      "display_name": "Python 3"
    }
  },
  "cells": [
    {
      "cell_type": "markdown",
      "metadata": {
        "id": "view-in-github",
        "colab_type": "text"
      },
      "source": [
        "<a href=\"https://colab.research.google.com/github/dondreojordan/DS-Unit-1-Build/blob/master/Project-Notebook-Code/BACK_UP_!!_DATASET_BREAKDOWN_CLEAN_UP_20200622.ipynb\" target=\"_parent\"><img src=\"https://colab.research.google.com/assets/colab-badge.svg\" alt=\"Open In Colab\"/></a>"
      ]
    },
    {
      "cell_type": "code",
      "metadata": {
        "id": "GurTS8qvOUrl",
        "colab_type": "code",
        "colab": {
          "base_uri": "https://localhost:8080/",
          "height": 71
        },
        "outputId": "71600fc5-2dc4-4023-a6f5-6639148d224e"
      },
      "source": [
        "import pandas as pd\n",
        "import numpy as np\n",
        "import matplotlib.pyplot as plt\n",
        "import seaborn as sns\n",
        "from scipy import stats\n",
        "import os\n",
        "import random\n",
        "import math\n",
        "from sklearn import preprocessing\n",
        "\n",
        "from numpy import array\n",
        "from numpy import mean\n",
        "from numpy import std\n",
        "from numpy import cov\n",
        "from numpy.linalg import eig"
      ],
      "execution_count": 1,
      "outputs": [
        {
          "output_type": "stream",
          "text": [
            "/usr/local/lib/python3.6/dist-packages/statsmodels/tools/_testing.py:19: FutureWarning: pandas.util.testing is deprecated. Use the functions in the public API at pandas.testing instead.\n",
            "  import pandas.util.testing as tm\n"
          ],
          "name": "stderr"
        }
      ]
    },
    {
      "cell_type": "code",
      "metadata": {
        "id": "b2kxbRIAMYuU",
        "colab_type": "code",
        "colab": {
          "resources": {
            "http://localhost:8080/nbextensions/google.colab/files.js": {
              "data": "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",
              "ok": true,
              "headers": [
                [
                  "content-type",
                  "application/javascript"
                ]
              ],
              "status": 200,
              "status_text": ""
            }
          },
          "base_uri": "https://localhost:8080/",
          "height": 242
        },
        "outputId": "32abef35-e5cd-4682-cc0a-bb0aefb6e0a7"
      },
      "source": [
        "#Loaded dataset form files. \n",
        "\n",
        "from google.colab import files\n",
        "uploaded = files.upload()"
      ],
      "execution_count": 2,
      "outputs": [
        {
          "output_type": "display_data",
          "data": {
            "text/html": [
              "\n",
              "     <input type=\"file\" id=\"files-05ad0436-570c-4baa-9e09-656ba7938724\" name=\"files[]\" multiple disabled\n",
              "        style=\"border:none\" />\n",
              "     <output id=\"result-05ad0436-570c-4baa-9e09-656ba7938724\">\n",
              "      Upload widget is only available when the cell has been executed in the\n",
              "      current browser session. Please rerun this cell to enable.\n",
              "      </output>\n",
              "      <script src=\"/nbextensions/google.colab/files.js\"></script> "
            ],
            "text/plain": [
              "<IPython.core.display.HTML object>"
            ]
          },
          "metadata": {
            "tags": []
          }
        },
        {
          "output_type": "stream",
          "text": [
            "Saving dataset-of-00s.csv to dataset-of-00s.csv\n",
            "Saving dataset-of-10s.csv to dataset-of-10s.csv\n",
            "Saving dataset-of-60s.csv to dataset-of-60s.csv\n",
            "Saving dataset-of-70s.csv to dataset-of-70s.csv\n",
            "Saving dataset-of-80s.csv to dataset-of-80s.csv\n",
            "Saving dataset-of-90s.csv to dataset-of-90s.csv\n"
          ],
          "name": "stdout"
        }
      ]
    },
    {
      "cell_type": "code",
      "metadata": {
        "id": "13kkPTOTN3-6",
        "colab_type": "code",
        "colab": {
          "base_uri": "https://localhost:8080/",
          "height": 360
        },
        "outputId": "f92669f9-82ae-4f2c-b80e-ea4e92a75e70"
      },
      "source": [
        "sixties_df = pd.read_csv('dataset-of-60s.csv')\n",
        "\n",
        "print(\"60s Datframe Shape: \", sixties_df.shape)\n",
        "sixties_df.head()"
      ],
      "execution_count": 3,
      "outputs": [
        {
          "output_type": "stream",
          "text": [
            "60s Datframe Shape:  (8642, 19)\n"
          ],
          "name": "stdout"
        },
        {
          "output_type": "execute_result",
          "data": {
            "text/html": [
              "<div>\n",
              "<style scoped>\n",
              "    .dataframe tbody tr th:only-of-type {\n",
              "        vertical-align: middle;\n",
              "    }\n",
              "\n",
              "    .dataframe tbody tr th {\n",
              "        vertical-align: top;\n",
              "    }\n",
              "\n",
              "    .dataframe thead th {\n",
              "        text-align: right;\n",
              "    }\n",
              "</style>\n",
              "<table border=\"1\" class=\"dataframe\">\n",
              "  <thead>\n",
              "    <tr style=\"text-align: right;\">\n",
              "      <th></th>\n",
              "      <th>track</th>\n",
              "      <th>artist</th>\n",
              "      <th>uri</th>\n",
              "      <th>danceability</th>\n",
              "      <th>energy</th>\n",
              "      <th>key</th>\n",
              "      <th>loudness</th>\n",
              "      <th>mode</th>\n",
              "      <th>speechiness</th>\n",
              "      <th>acousticness</th>\n",
              "      <th>instrumentalness</th>\n",
              "      <th>liveness</th>\n",
              "      <th>valence</th>\n",
              "      <th>tempo</th>\n",
              "      <th>duration_ms</th>\n",
              "      <th>time_signature</th>\n",
              "      <th>chorus_hit</th>\n",
              "      <th>sections</th>\n",
              "      <th>target</th>\n",
              "    </tr>\n",
              "  </thead>\n",
              "  <tbody>\n",
              "    <tr>\n",
              "      <th>0</th>\n",
              "      <td>Jealous Kind Of Fella</td>\n",
              "      <td>Garland Green</td>\n",
              "      <td>spotify:track:1dtKN6wwlolkM8XZy2y9C1</td>\n",
              "      <td>0.417</td>\n",
              "      <td>0.620</td>\n",
              "      <td>3</td>\n",
              "      <td>-7.727</td>\n",
              "      <td>1</td>\n",
              "      <td>0.0403</td>\n",
              "      <td>0.490</td>\n",
              "      <td>0.000000</td>\n",
              "      <td>0.0779</td>\n",
              "      <td>0.845</td>\n",
              "      <td>185.655</td>\n",
              "      <td>173533</td>\n",
              "      <td>3</td>\n",
              "      <td>32.94975</td>\n",
              "      <td>9</td>\n",
              "      <td>1</td>\n",
              "    </tr>\n",
              "    <tr>\n",
              "      <th>1</th>\n",
              "      <td>Initials B.B.</td>\n",
              "      <td>Serge Gainsbourg</td>\n",
              "      <td>spotify:track:5hjsmSnUefdUqzsDogisiX</td>\n",
              "      <td>0.498</td>\n",
              "      <td>0.505</td>\n",
              "      <td>3</td>\n",
              "      <td>-12.475</td>\n",
              "      <td>1</td>\n",
              "      <td>0.0337</td>\n",
              "      <td>0.018</td>\n",
              "      <td>0.107000</td>\n",
              "      <td>0.1760</td>\n",
              "      <td>0.797</td>\n",
              "      <td>101.801</td>\n",
              "      <td>213613</td>\n",
              "      <td>4</td>\n",
              "      <td>48.82510</td>\n",
              "      <td>10</td>\n",
              "      <td>0</td>\n",
              "    </tr>\n",
              "    <tr>\n",
              "      <th>2</th>\n",
              "      <td>Melody Twist</td>\n",
              "      <td>Lord Melody</td>\n",
              "      <td>spotify:track:6uk8tI6pwxxdVTNlNOJeJh</td>\n",
              "      <td>0.657</td>\n",
              "      <td>0.649</td>\n",
              "      <td>5</td>\n",
              "      <td>-13.392</td>\n",
              "      <td>1</td>\n",
              "      <td>0.0380</td>\n",
              "      <td>0.846</td>\n",
              "      <td>0.000004</td>\n",
              "      <td>0.1190</td>\n",
              "      <td>0.908</td>\n",
              "      <td>115.940</td>\n",
              "      <td>223960</td>\n",
              "      <td>4</td>\n",
              "      <td>37.22663</td>\n",
              "      <td>12</td>\n",
              "      <td>0</td>\n",
              "    </tr>\n",
              "    <tr>\n",
              "      <th>3</th>\n",
              "      <td>Mi Bomba Sonó</td>\n",
              "      <td>Celia Cruz</td>\n",
              "      <td>spotify:track:7aNjMJ05FvUXACPWZ7yJmv</td>\n",
              "      <td>0.590</td>\n",
              "      <td>0.545</td>\n",
              "      <td>7</td>\n",
              "      <td>-12.058</td>\n",
              "      <td>0</td>\n",
              "      <td>0.1040</td>\n",
              "      <td>0.706</td>\n",
              "      <td>0.024600</td>\n",
              "      <td>0.0610</td>\n",
              "      <td>0.967</td>\n",
              "      <td>105.592</td>\n",
              "      <td>157907</td>\n",
              "      <td>4</td>\n",
              "      <td>24.75484</td>\n",
              "      <td>8</td>\n",
              "      <td>0</td>\n",
              "    </tr>\n",
              "    <tr>\n",
              "      <th>4</th>\n",
              "      <td>Uravu Solla</td>\n",
              "      <td>P. Susheela</td>\n",
              "      <td>spotify:track:1rQ0clvgkzWr001POOPJWx</td>\n",
              "      <td>0.515</td>\n",
              "      <td>0.765</td>\n",
              "      <td>11</td>\n",
              "      <td>-3.515</td>\n",
              "      <td>0</td>\n",
              "      <td>0.1240</td>\n",
              "      <td>0.857</td>\n",
              "      <td>0.000872</td>\n",
              "      <td>0.2130</td>\n",
              "      <td>0.906</td>\n",
              "      <td>114.617</td>\n",
              "      <td>245600</td>\n",
              "      <td>4</td>\n",
              "      <td>21.79874</td>\n",
              "      <td>14</td>\n",
              "      <td>0</td>\n",
              "    </tr>\n",
              "  </tbody>\n",
              "</table>\n",
              "</div>"
            ],
            "text/plain": [
              "                   track            artist  ... sections  target\n",
              "0  Jealous Kind Of Fella     Garland Green  ...        9       1\n",
              "1          Initials B.B.  Serge Gainsbourg  ...       10       0\n",
              "2           Melody Twist       Lord Melody  ...       12       0\n",
              "3          Mi Bomba Sonó        Celia Cruz  ...        8       0\n",
              "4            Uravu Solla       P. Susheela  ...       14       0\n",
              "\n",
              "[5 rows x 19 columns]"
            ]
          },
          "metadata": {
            "tags": []
          },
          "execution_count": 3
        }
      ]
    },
    {
      "cell_type": "code",
      "metadata": {
        "id": "RCMXhmyUucP9",
        "colab_type": "code",
        "colab": {
          "base_uri": "https://localhost:8080/",
          "height": 34
        },
        "outputId": "5fcc7f25-9c82-48eb-c06d-a352e0c7b40b"
      },
      "source": [
        "# drop duplicate tracks\n",
        "sixties_df.drop_duplicates(subset='track')\n",
        "print('Shape after dropping: ', sixties_df.shape)"
      ],
      "execution_count": 4,
      "outputs": [
        {
          "output_type": "stream",
          "text": [
            "Shape after dropping:  (8642, 19)\n"
          ],
          "name": "stdout"
        }
      ]
    },
    {
      "cell_type": "code",
      "metadata": {
        "id": "QkPAouFw2FfI",
        "colab_type": "code",
        "colab": {}
      },
      "source": [
        ""
      ],
      "execution_count": null,
      "outputs": []
    },
    {
      "cell_type": "code",
      "metadata": {
        "id": "qNu4EBV12GMf",
        "colab_type": "code",
        "colab": {}
      },
      "source": [
        ""
      ],
      "execution_count": null,
      "outputs": []
    },
    {
      "cell_type": "code",
      "metadata": {
        "id": "KuOhFtmu2GZk",
        "colab_type": "code",
        "colab": {}
      },
      "source": [
        ""
      ],
      "execution_count": null,
      "outputs": []
    },
    {
      "cell_type": "code",
      "metadata": {
        "id": "3SCWUuKkQ9U6",
        "colab_type": "code",
        "colab": {
          "base_uri": "https://localhost:8080/",
          "height": 360
        },
        "outputId": "7ce1b950-85e3-4f81-f79b-b368888aff34"
      },
      "source": [
        "seventies_df = pd.read_csv('dataset-of-70s.csv')\n",
        "\n",
        "print(\"70s Datframe Shape: \", seventies_df.shape)\n",
        "seventies_df.head()"
      ],
      "execution_count": 5,
      "outputs": [
        {
          "output_type": "stream",
          "text": [
            "70s Datframe Shape:  (7766, 19)\n"
          ],
          "name": "stdout"
        },
        {
          "output_type": "execute_result",
          "data": {
            "text/html": [
              "<div>\n",
              "<style scoped>\n",
              "    .dataframe tbody tr th:only-of-type {\n",
              "        vertical-align: middle;\n",
              "    }\n",
              "\n",
              "    .dataframe tbody tr th {\n",
              "        vertical-align: top;\n",
              "    }\n",
              "\n",
              "    .dataframe thead th {\n",
              "        text-align: right;\n",
              "    }\n",
              "</style>\n",
              "<table border=\"1\" class=\"dataframe\">\n",
              "  <thead>\n",
              "    <tr style=\"text-align: right;\">\n",
              "      <th></th>\n",
              "      <th>track</th>\n",
              "      <th>artist</th>\n",
              "      <th>uri</th>\n",
              "      <th>danceability</th>\n",
              "      <th>energy</th>\n",
              "      <th>key</th>\n",
              "      <th>loudness</th>\n",
              "      <th>mode</th>\n",
              "      <th>speechiness</th>\n",
              "      <th>acousticness</th>\n",
              "      <th>instrumentalness</th>\n",
              "      <th>liveness</th>\n",
              "      <th>valence</th>\n",
              "      <th>tempo</th>\n",
              "      <th>duration_ms</th>\n",
              "      <th>time_signature</th>\n",
              "      <th>chorus_hit</th>\n",
              "      <th>sections</th>\n",
              "      <th>target</th>\n",
              "    </tr>\n",
              "  </thead>\n",
              "  <tbody>\n",
              "    <tr>\n",
              "      <th>0</th>\n",
              "      <td>Porque?</td>\n",
              "      <td>Reginaldo Rossi</td>\n",
              "      <td>spotify:track:28KC2wl7jDv6Ms1Uc0OMpm</td>\n",
              "      <td>0.669</td>\n",
              "      <td>0.547</td>\n",
              "      <td>1</td>\n",
              "      <td>-9.873</td>\n",
              "      <td>0</td>\n",
              "      <td>0.0576</td>\n",
              "      <td>0.3530</td>\n",
              "      <td>0.000</td>\n",
              "      <td>0.0515</td>\n",
              "      <td>0.730</td>\n",
              "      <td>131.073</td>\n",
              "      <td>141067</td>\n",
              "      <td>4</td>\n",
              "      <td>28.79763</td>\n",
              "      <td>6</td>\n",
              "      <td>0</td>\n",
              "    </tr>\n",
              "    <tr>\n",
              "      <th>1</th>\n",
              "      <td>Free Jazz</td>\n",
              "      <td>Maria Teresa Luciani</td>\n",
              "      <td>spotify:track:0zagn8PNnM7pM8pz1gXOAD</td>\n",
              "      <td>0.291</td>\n",
              "      <td>0.300</td>\n",
              "      <td>1</td>\n",
              "      <td>-14.054</td>\n",
              "      <td>0</td>\n",
              "      <td>0.0326</td>\n",
              "      <td>0.9050</td>\n",
              "      <td>0.492</td>\n",
              "      <td>0.1180</td>\n",
              "      <td>0.039</td>\n",
              "      <td>75.619</td>\n",
              "      <td>228224</td>\n",
              "      <td>4</td>\n",
              "      <td>44.10303</td>\n",
              "      <td>9</td>\n",
              "      <td>0</td>\n",
              "    </tr>\n",
              "    <tr>\n",
              "      <th>2</th>\n",
              "      <td>Reject of Society</td>\n",
              "      <td>Crass</td>\n",
              "      <td>spotify:track:18eNASEiuAhO2ML5LBIoG4</td>\n",
              "      <td>0.355</td>\n",
              "      <td>0.968</td>\n",
              "      <td>7</td>\n",
              "      <td>-4.687</td>\n",
              "      <td>1</td>\n",
              "      <td>0.1890</td>\n",
              "      <td>0.0504</td>\n",
              "      <td>0.000</td>\n",
              "      <td>0.1300</td>\n",
              "      <td>0.768</td>\n",
              "      <td>181.291</td>\n",
              "      <td>66800</td>\n",
              "      <td>3</td>\n",
              "      <td>25.23004</td>\n",
              "      <td>6</td>\n",
              "      <td>0</td>\n",
              "    </tr>\n",
              "    <tr>\n",
              "      <th>3</th>\n",
              "      <td>Yeah !</td>\n",
              "      <td>The Jets</td>\n",
              "      <td>spotify:track:1UlJzHc8E5EprQFJxjSyPL</td>\n",
              "      <td>0.598</td>\n",
              "      <td>0.891</td>\n",
              "      <td>6</td>\n",
              "      <td>-11.904</td>\n",
              "      <td>1</td>\n",
              "      <td>0.0552</td>\n",
              "      <td>0.0183</td>\n",
              "      <td>0.836</td>\n",
              "      <td>0.5790</td>\n",
              "      <td>0.826</td>\n",
              "      <td>144.383</td>\n",
              "      <td>155395</td>\n",
              "      <td>4</td>\n",
              "      <td>55.62066</td>\n",
              "      <td>7</td>\n",
              "      <td>0</td>\n",
              "    </tr>\n",
              "    <tr>\n",
              "      <th>4</th>\n",
              "      <td>Gotta Find A Way</td>\n",
              "      <td>The Moments</td>\n",
              "      <td>spotify:track:1Jtlirju8tUXTtvyZJAN5v</td>\n",
              "      <td>0.440</td>\n",
              "      <td>0.376</td>\n",
              "      <td>5</td>\n",
              "      <td>-10.939</td>\n",
              "      <td>1</td>\n",
              "      <td>0.0482</td>\n",
              "      <td>0.3480</td>\n",
              "      <td>0.000</td>\n",
              "      <td>0.0815</td>\n",
              "      <td>0.358</td>\n",
              "      <td>130.438</td>\n",
              "      <td>218333</td>\n",
              "      <td>4</td>\n",
              "      <td>34.90979</td>\n",
              "      <td>12</td>\n",
              "      <td>1</td>\n",
              "    </tr>\n",
              "  </tbody>\n",
              "</table>\n",
              "</div>"
            ],
            "text/plain": [
              "               track                artist  ... sections  target\n",
              "0            Porque?       Reginaldo Rossi  ...        6       0\n",
              "1          Free Jazz  Maria Teresa Luciani  ...        9       0\n",
              "2  Reject of Society                 Crass  ...        6       0\n",
              "3             Yeah !              The Jets  ...        7       0\n",
              "4   Gotta Find A Way           The Moments  ...       12       1\n",
              "\n",
              "[5 rows x 19 columns]"
            ]
          },
          "metadata": {
            "tags": []
          },
          "execution_count": 5
        }
      ]
    },
    {
      "cell_type": "code",
      "metadata": {
        "id": "GAWCtRh-VuNB",
        "colab_type": "code",
        "colab": {
          "base_uri": "https://localhost:8080/",
          "height": 34
        },
        "outputId": "f6fda956-6e6c-4046-b80e-3a44de18b160"
      },
      "source": [
        "# drop duplicate tracks\n",
        "seventies_df.drop_duplicates(subset='track')\n",
        "print('Shape after dropping: ', seventies_df.shape)"
      ],
      "execution_count": 6,
      "outputs": [
        {
          "output_type": "stream",
          "text": [
            "Shape after dropping:  (7766, 19)\n"
          ],
          "name": "stdout"
        }
      ]
    },
    {
      "cell_type": "code",
      "metadata": {
        "id": "ohlbDNcZVucA",
        "colab_type": "code",
        "colab": {}
      },
      "source": [
        "seventies_df.drop([\"track\",\"artist\",\"uri\"],axis=1,inplace=True)"
      ],
      "execution_count": null,
      "outputs": []
    },
    {
      "cell_type": "code",
      "metadata": {
        "id": "b5I1zf5NVuQ1",
        "colab_type": "code",
        "colab": {}
      },
      "source": [
        ""
      ],
      "execution_count": null,
      "outputs": []
    },
    {
      "cell_type": "code",
      "metadata": {
        "id": "KA8AeHSMVuUj",
        "colab_type": "code",
        "colab": {
          "base_uri": "https://localhost:8080/",
          "height": 360
        },
        "outputId": "d4046060-0fb6-410b-97dd-6b542b6c4906"
      },
      "source": [
        "eighties_df = pd.read_csv('dataset-of-80s.csv')\n",
        "\n",
        "print(\"80s Datframe Shape: \", eighties_df.shape)\n",
        "eighties_df.head()"
      ],
      "execution_count": 7,
      "outputs": [
        {
          "output_type": "stream",
          "text": [
            "80s Datframe Shape:  (6908, 19)\n"
          ],
          "name": "stdout"
        },
        {
          "output_type": "execute_result",
          "data": {
            "text/html": [
              "<div>\n",
              "<style scoped>\n",
              "    .dataframe tbody tr th:only-of-type {\n",
              "        vertical-align: middle;\n",
              "    }\n",
              "\n",
              "    .dataframe tbody tr th {\n",
              "        vertical-align: top;\n",
              "    }\n",
              "\n",
              "    .dataframe thead th {\n",
              "        text-align: right;\n",
              "    }\n",
              "</style>\n",
              "<table border=\"1\" class=\"dataframe\">\n",
              "  <thead>\n",
              "    <tr style=\"text-align: right;\">\n",
              "      <th></th>\n",
              "      <th>track</th>\n",
              "      <th>artist</th>\n",
              "      <th>uri</th>\n",
              "      <th>danceability</th>\n",
              "      <th>energy</th>\n",
              "      <th>key</th>\n",
              "      <th>loudness</th>\n",
              "      <th>mode</th>\n",
              "      <th>speechiness</th>\n",
              "      <th>acousticness</th>\n",
              "      <th>instrumentalness</th>\n",
              "      <th>liveness</th>\n",
              "      <th>valence</th>\n",
              "      <th>tempo</th>\n",
              "      <th>duration_ms</th>\n",
              "      <th>time_signature</th>\n",
              "      <th>chorus_hit</th>\n",
              "      <th>sections</th>\n",
              "      <th>target</th>\n",
              "    </tr>\n",
              "  </thead>\n",
              "  <tbody>\n",
              "    <tr>\n",
              "      <th>0</th>\n",
              "      <td>Walking Blues</td>\n",
              "      <td>Big Joe Williams</td>\n",
              "      <td>spotify:track:1ZjN5X8LmUB67pWPgimW3B</td>\n",
              "      <td>0.509</td>\n",
              "      <td>0.277</td>\n",
              "      <td>6</td>\n",
              "      <td>-14.323</td>\n",
              "      <td>1</td>\n",
              "      <td>0.0495</td>\n",
              "      <td>0.827</td>\n",
              "      <td>0.00206</td>\n",
              "      <td>0.0756</td>\n",
              "      <td>0.640</td>\n",
              "      <td>101.157</td>\n",
              "      <td>161893</td>\n",
              "      <td>4</td>\n",
              "      <td>68.46530</td>\n",
              "      <td>7</td>\n",
              "      <td>0</td>\n",
              "    </tr>\n",
              "    <tr>\n",
              "      <th>1</th>\n",
              "      <td>Suddenly Last Summer</td>\n",
              "      <td>The Motels</td>\n",
              "      <td>spotify:track:4fLIM0B1WwrLux9RdnMvze</td>\n",
              "      <td>0.716</td>\n",
              "      <td>0.753</td>\n",
              "      <td>2</td>\n",
              "      <td>-5.682</td>\n",
              "      <td>1</td>\n",
              "      <td>0.0286</td>\n",
              "      <td>0.162</td>\n",
              "      <td>0.03060</td>\n",
              "      <td>0.0831</td>\n",
              "      <td>0.561</td>\n",
              "      <td>120.141</td>\n",
              "      <td>222000</td>\n",
              "      <td>4</td>\n",
              "      <td>57.71583</td>\n",
              "      <td>11</td>\n",
              "      <td>1</td>\n",
              "    </tr>\n",
              "    <tr>\n",
              "      <th>2</th>\n",
              "      <td>Sanctuary</td>\n",
              "      <td>Béla Fleck</td>\n",
              "      <td>spotify:track:3DwlNfiCQSdj0GOxYkR9Rq</td>\n",
              "      <td>0.360</td>\n",
              "      <td>0.542</td>\n",
              "      <td>5</td>\n",
              "      <td>-13.885</td>\n",
              "      <td>1</td>\n",
              "      <td>0.0339</td>\n",
              "      <td>0.368</td>\n",
              "      <td>0.16500</td>\n",
              "      <td>0.1160</td>\n",
              "      <td>0.803</td>\n",
              "      <td>116.831</td>\n",
              "      <td>444907</td>\n",
              "      <td>4</td>\n",
              "      <td>30.34574</td>\n",
              "      <td>17</td>\n",
              "      <td>0</td>\n",
              "    </tr>\n",
              "    <tr>\n",
              "      <th>3</th>\n",
              "      <td>The Wild Rover</td>\n",
              "      <td>The Pogues</td>\n",
              "      <td>spotify:track:6JyYNPLalPgGa7XnclF5FO</td>\n",
              "      <td>0.656</td>\n",
              "      <td>0.512</td>\n",
              "      <td>7</td>\n",
              "      <td>-11.872</td>\n",
              "      <td>1</td>\n",
              "      <td>0.0290</td>\n",
              "      <td>0.585</td>\n",
              "      <td>0.00000</td>\n",
              "      <td>0.0720</td>\n",
              "      <td>0.880</td>\n",
              "      <td>97.500</td>\n",
              "      <td>157893</td>\n",
              "      <td>3</td>\n",
              "      <td>50.97022</td>\n",
              "      <td>7</td>\n",
              "      <td>0</td>\n",
              "    </tr>\n",
              "    <tr>\n",
              "      <th>4</th>\n",
              "      <td>In The Driver's Seat</td>\n",
              "      <td>John Schneider</td>\n",
              "      <td>spotify:track:6jJi8OXF5qaFdysB6sjWIT</td>\n",
              "      <td>0.642</td>\n",
              "      <td>0.889</td>\n",
              "      <td>2</td>\n",
              "      <td>-5.620</td>\n",
              "      <td>0</td>\n",
              "      <td>0.0494</td>\n",
              "      <td>0.375</td>\n",
              "      <td>0.00000</td>\n",
              "      <td>0.1800</td>\n",
              "      <td>0.764</td>\n",
              "      <td>163.351</td>\n",
              "      <td>162293</td>\n",
              "      <td>4</td>\n",
              "      <td>33.62053</td>\n",
              "      <td>7</td>\n",
              "      <td>1</td>\n",
              "    </tr>\n",
              "  </tbody>\n",
              "</table>\n",
              "</div>"
            ],
            "text/plain": [
              "                  track            artist  ... sections  target\n",
              "0         Walking Blues  Big Joe Williams  ...        7       0\n",
              "1  Suddenly Last Summer        The Motels  ...       11       1\n",
              "2             Sanctuary        Béla Fleck  ...       17       0\n",
              "3        The Wild Rover        The Pogues  ...        7       0\n",
              "4  In The Driver's Seat    John Schneider  ...        7       1\n",
              "\n",
              "[5 rows x 19 columns]"
            ]
          },
          "metadata": {
            "tags": []
          },
          "execution_count": 7
        }
      ]
    },
    {
      "cell_type": "code",
      "metadata": {
        "id": "MskHyC1iVuYI",
        "colab_type": "code",
        "colab": {
          "base_uri": "https://localhost:8080/",
          "height": 34
        },
        "outputId": "59006267-28ce-455b-fc3e-06fed1e3a2cd"
      },
      "source": [
        "# drop duplicate tracks\n",
        "eighties_df.drop_duplicates(subset='track')\n",
        "print('Shape after dropping: ', eighties_df.shape)"
      ],
      "execution_count": 8,
      "outputs": [
        {
          "output_type": "stream",
          "text": [
            "Shape after dropping:  (6908, 19)\n"
          ],
          "name": "stdout"
        }
      ]
    },
    {
      "cell_type": "code",
      "metadata": {
        "id": "MdZ1M1dtVue9",
        "colab_type": "code",
        "colab": {}
      },
      "source": [
        ""
      ],
      "execution_count": null,
      "outputs": []
    },
    {
      "cell_type": "code",
      "metadata": {
        "id": "N4ka4PHcVuiv",
        "colab_type": "code",
        "colab": {}
      },
      "source": [
        ""
      ],
      "execution_count": null,
      "outputs": []
    },
    {
      "cell_type": "code",
      "metadata": {
        "id": "2W2ath9JQ9fC",
        "colab_type": "code",
        "colab": {
          "base_uri": "https://localhost:8080/",
          "height": 745
        },
        "outputId": "80b35a80-1c0a-49f4-baff-633506db481e"
      },
      "source": [
        "ninties_df = pd.read_csv('dataset-of-90s.csv')\n",
        "\n",
        "print(\"90s Datframe Shape: \", ninties_df.shape)\n",
        "ninties_df"
      ],
      "execution_count": 9,
      "outputs": [
        {
          "output_type": "stream",
          "text": [
            "90s Datframe Shape:  (5520, 19)\n"
          ],
          "name": "stdout"
        },
        {
          "output_type": "execute_result",
          "data": {
            "text/html": [
              "<div>\n",
              "<style scoped>\n",
              "    .dataframe tbody tr th:only-of-type {\n",
              "        vertical-align: middle;\n",
              "    }\n",
              "\n",
              "    .dataframe tbody tr th {\n",
              "        vertical-align: top;\n",
              "    }\n",
              "\n",
              "    .dataframe thead th {\n",
              "        text-align: right;\n",
              "    }\n",
              "</style>\n",
              "<table border=\"1\" class=\"dataframe\">\n",
              "  <thead>\n",
              "    <tr style=\"text-align: right;\">\n",
              "      <th></th>\n",
              "      <th>track</th>\n",
              "      <th>artist</th>\n",
              "      <th>uri</th>\n",
              "      <th>danceability</th>\n",
              "      <th>energy</th>\n",
              "      <th>key</th>\n",
              "      <th>loudness</th>\n",
              "      <th>mode</th>\n",
              "      <th>speechiness</th>\n",
              "      <th>acousticness</th>\n",
              "      <th>instrumentalness</th>\n",
              "      <th>liveness</th>\n",
              "      <th>valence</th>\n",
              "      <th>tempo</th>\n",
              "      <th>duration_ms</th>\n",
              "      <th>time_signature</th>\n",
              "      <th>chorus_hit</th>\n",
              "      <th>sections</th>\n",
              "      <th>target</th>\n",
              "    </tr>\n",
              "  </thead>\n",
              "  <tbody>\n",
              "    <tr>\n",
              "      <th>0</th>\n",
              "      <td>Misty Roses</td>\n",
              "      <td>Astrud Gilberto</td>\n",
              "      <td>spotify:track:50RBM1j1Dw7WYmsGsWg9Tm</td>\n",
              "      <td>0.527</td>\n",
              "      <td>0.316</td>\n",
              "      <td>1</td>\n",
              "      <td>-15.769</td>\n",
              "      <td>1</td>\n",
              "      <td>0.0310</td>\n",
              "      <td>0.693000</td>\n",
              "      <td>0.006990</td>\n",
              "      <td>0.1680</td>\n",
              "      <td>0.543</td>\n",
              "      <td>116.211</td>\n",
              "      <td>158840</td>\n",
              "      <td>4</td>\n",
              "      <td>53.89523</td>\n",
              "      <td>6</td>\n",
              "      <td>0</td>\n",
              "    </tr>\n",
              "    <tr>\n",
              "      <th>1</th>\n",
              "      <td>Never Ever</td>\n",
              "      <td>All Saints</td>\n",
              "      <td>spotify:track:5FTz9qQ94PyUHETyAyfYZN</td>\n",
              "      <td>0.738</td>\n",
              "      <td>0.541</td>\n",
              "      <td>1</td>\n",
              "      <td>-5.485</td>\n",
              "      <td>1</td>\n",
              "      <td>0.0311</td>\n",
              "      <td>0.559000</td>\n",
              "      <td>0.000000</td>\n",
              "      <td>0.0492</td>\n",
              "      <td>0.309</td>\n",
              "      <td>134.187</td>\n",
              "      <td>387573</td>\n",
              "      <td>4</td>\n",
              "      <td>32.16853</td>\n",
              "      <td>16</td>\n",
              "      <td>1</td>\n",
              "    </tr>\n",
              "    <tr>\n",
              "      <th>2</th>\n",
              "      <td>Soul Sermon</td>\n",
              "      <td>Gregg Karukas</td>\n",
              "      <td>spotify:track:6m24oe3lk1UMxq9zq4iPFi</td>\n",
              "      <td>0.736</td>\n",
              "      <td>0.419</td>\n",
              "      <td>0</td>\n",
              "      <td>-10.662</td>\n",
              "      <td>1</td>\n",
              "      <td>0.0300</td>\n",
              "      <td>0.693000</td>\n",
              "      <td>0.495000</td>\n",
              "      <td>0.0809</td>\n",
              "      <td>0.265</td>\n",
              "      <td>93.982</td>\n",
              "      <td>237267</td>\n",
              "      <td>4</td>\n",
              "      <td>42.05369</td>\n",
              "      <td>9</td>\n",
              "      <td>0</td>\n",
              "    </tr>\n",
              "    <tr>\n",
              "      <th>3</th>\n",
              "      <td>Clarinet Marmalade - Live</td>\n",
              "      <td>Alton Purnell</td>\n",
              "      <td>spotify:track:5FOXuiLI6knVtgMUjWKj6x</td>\n",
              "      <td>0.565</td>\n",
              "      <td>0.594</td>\n",
              "      <td>5</td>\n",
              "      <td>-13.086</td>\n",
              "      <td>1</td>\n",
              "      <td>0.0646</td>\n",
              "      <td>0.655000</td>\n",
              "      <td>0.926000</td>\n",
              "      <td>0.6750</td>\n",
              "      <td>0.763</td>\n",
              "      <td>114.219</td>\n",
              "      <td>375933</td>\n",
              "      <td>4</td>\n",
              "      <td>80.99693</td>\n",
              "      <td>10</td>\n",
              "      <td>0</td>\n",
              "    </tr>\n",
              "    <tr>\n",
              "      <th>4</th>\n",
              "      <td>До смерті і довше - Drum &amp; Base and Rock Remix</td>\n",
              "      <td>Skryabin</td>\n",
              "      <td>spotify:track:6CxyIPTqSPvAPXfrIZczs4</td>\n",
              "      <td>0.513</td>\n",
              "      <td>0.760</td>\n",
              "      <td>4</td>\n",
              "      <td>-10.077</td>\n",
              "      <td>1</td>\n",
              "      <td>0.0355</td>\n",
              "      <td>0.000017</td>\n",
              "      <td>0.003390</td>\n",
              "      <td>0.1530</td>\n",
              "      <td>0.961</td>\n",
              "      <td>153.166</td>\n",
              "      <td>430653</td>\n",
              "      <td>4</td>\n",
              "      <td>25.57331</td>\n",
              "      <td>20</td>\n",
              "      <td>0</td>\n",
              "    </tr>\n",
              "    <tr>\n",
              "      <th>...</th>\n",
              "      <td>...</td>\n",
              "      <td>...</td>\n",
              "      <td>...</td>\n",
              "      <td>...</td>\n",
              "      <td>...</td>\n",
              "      <td>...</td>\n",
              "      <td>...</td>\n",
              "      <td>...</td>\n",
              "      <td>...</td>\n",
              "      <td>...</td>\n",
              "      <td>...</td>\n",
              "      <td>...</td>\n",
              "      <td>...</td>\n",
              "      <td>...</td>\n",
              "      <td>...</td>\n",
              "      <td>...</td>\n",
              "      <td>...</td>\n",
              "      <td>...</td>\n",
              "      <td>...</td>\n",
              "    </tr>\n",
              "    <tr>\n",
              "      <th>5515</th>\n",
              "      <td>(You're A) Go Nowhere</td>\n",
              "      <td>Reagan Youth</td>\n",
              "      <td>spotify:track:4e86fqSFhqRQk3Z9hm7XHt</td>\n",
              "      <td>0.396</td>\n",
              "      <td>0.795</td>\n",
              "      <td>9</td>\n",
              "      <td>-6.070</td>\n",
              "      <td>0</td>\n",
              "      <td>0.2340</td>\n",
              "      <td>0.000928</td>\n",
              "      <td>0.000209</td>\n",
              "      <td>0.1820</td>\n",
              "      <td>0.762</td>\n",
              "      <td>152.943</td>\n",
              "      <td>82107</td>\n",
              "      <td>4</td>\n",
              "      <td>30.34109</td>\n",
              "      <td>6</td>\n",
              "      <td>0</td>\n",
              "    </tr>\n",
              "    <tr>\n",
              "      <th>5516</th>\n",
              "      <td>La Fiebre de Norma</td>\n",
              "      <td>La Castañeda</td>\n",
              "      <td>spotify:track:43DFcnOZprnVlAFKwgBJ3e</td>\n",
              "      <td>0.621</td>\n",
              "      <td>0.655</td>\n",
              "      <td>9</td>\n",
              "      <td>-6.281</td>\n",
              "      <td>0</td>\n",
              "      <td>0.0309</td>\n",
              "      <td>0.050600</td>\n",
              "      <td>0.006260</td>\n",
              "      <td>0.0937</td>\n",
              "      <td>0.690</td>\n",
              "      <td>134.167</td>\n",
              "      <td>211653</td>\n",
              "      <td>4</td>\n",
              "      <td>34.89506</td>\n",
              "      <td>10</td>\n",
              "      <td>0</td>\n",
              "    </tr>\n",
              "    <tr>\n",
              "      <th>5517</th>\n",
              "      <td>Good Times</td>\n",
              "      <td>Edie Brickell</td>\n",
              "      <td>spotify:track:6UPfnVoOq3y3BvapBIKs8J</td>\n",
              "      <td>0.562</td>\n",
              "      <td>0.314</td>\n",
              "      <td>10</td>\n",
              "      <td>-15.213</td>\n",
              "      <td>0</td>\n",
              "      <td>0.0298</td>\n",
              "      <td>0.440000</td>\n",
              "      <td>0.000011</td>\n",
              "      <td>0.1060</td>\n",
              "      <td>0.571</td>\n",
              "      <td>166.847</td>\n",
              "      <td>189827</td>\n",
              "      <td>4</td>\n",
              "      <td>21.11763</td>\n",
              "      <td>10</td>\n",
              "      <td>1</td>\n",
              "    </tr>\n",
              "    <tr>\n",
              "      <th>5518</th>\n",
              "      <td>Inane</td>\n",
              "      <td>KMFDM</td>\n",
              "      <td>spotify:track:2Ao3Wi4raEOQfKQiU9EU8y</td>\n",
              "      <td>0.622</td>\n",
              "      <td>0.781</td>\n",
              "      <td>7</td>\n",
              "      <td>-6.080</td>\n",
              "      <td>1</td>\n",
              "      <td>0.0368</td>\n",
              "      <td>0.000101</td>\n",
              "      <td>0.755000</td>\n",
              "      <td>0.3830</td>\n",
              "      <td>0.214</td>\n",
              "      <td>120.051</td>\n",
              "      <td>330053</td>\n",
              "      <td>4</td>\n",
              "      <td>47.13558</td>\n",
              "      <td>11</td>\n",
              "      <td>0</td>\n",
              "    </tr>\n",
              "    <tr>\n",
              "      <th>5519</th>\n",
              "      <td>You Can Make History (Young Again)</td>\n",
              "      <td>Elton John</td>\n",
              "      <td>spotify:track:3ca91BX2k7GSzEUsx1mPgI</td>\n",
              "      <td>0.664</td>\n",
              "      <td>0.739</td>\n",
              "      <td>2</td>\n",
              "      <td>-9.005</td>\n",
              "      <td>1</td>\n",
              "      <td>0.0262</td>\n",
              "      <td>0.106000</td>\n",
              "      <td>0.054200</td>\n",
              "      <td>0.3330</td>\n",
              "      <td>0.458</td>\n",
              "      <td>92.257</td>\n",
              "      <td>293973</td>\n",
              "      <td>4</td>\n",
              "      <td>42.50341</td>\n",
              "      <td>14</td>\n",
              "      <td>1</td>\n",
              "    </tr>\n",
              "  </tbody>\n",
              "</table>\n",
              "<p>5520 rows × 19 columns</p>\n",
              "</div>"
            ],
            "text/plain": [
              "                                               track  ... target\n",
              "0                                        Misty Roses  ...      0\n",
              "1                                         Never Ever  ...      1\n",
              "2                                        Soul Sermon  ...      0\n",
              "3                          Clarinet Marmalade - Live  ...      0\n",
              "4     До смерті і довше - Drum & Base and Rock Remix  ...      0\n",
              "...                                              ...  ...    ...\n",
              "5515                           (You're A) Go Nowhere  ...      0\n",
              "5516                              La Fiebre de Norma  ...      0\n",
              "5517                                      Good Times  ...      1\n",
              "5518                                           Inane  ...      0\n",
              "5519              You Can Make History (Young Again)  ...      1\n",
              "\n",
              "[5520 rows x 19 columns]"
            ]
          },
          "metadata": {
            "tags": []
          },
          "execution_count": 9
        }
      ]
    },
    {
      "cell_type": "code",
      "metadata": {
        "id": "dSI7peexVult",
        "colab_type": "code",
        "colab": {
          "base_uri": "https://localhost:8080/",
          "height": 34
        },
        "outputId": "f11a09ae-2b40-4353-9240-67b4423957d0"
      },
      "source": [
        "# drop duplicate tracks\n",
        "ninties_df.drop_duplicates(subset='track')\n",
        "print('Shape after dropping: ', ninties_df.shape)"
      ],
      "execution_count": 10,
      "outputs": [
        {
          "output_type": "stream",
          "text": [
            "Shape after dropping:  (5520, 19)\n"
          ],
          "name": "stdout"
        }
      ]
    },
    {
      "cell_type": "code",
      "metadata": {
        "id": "EKrN_pKyVvUr",
        "colab_type": "code",
        "colab": {}
      },
      "source": [
        ""
      ],
      "execution_count": null,
      "outputs": []
    },
    {
      "cell_type": "code",
      "metadata": {
        "id": "trEG0QuTVvYm",
        "colab_type": "code",
        "colab": {}
      },
      "source": [
        ""
      ],
      "execution_count": null,
      "outputs": []
    },
    {
      "cell_type": "code",
      "metadata": {
        "id": "nupsKLzGVvb9",
        "colab_type": "code",
        "colab": {}
      },
      "source": [
        ""
      ],
      "execution_count": null,
      "outputs": []
    },
    {
      "cell_type": "code",
      "metadata": {
        "id": "Nyaw-fDeVvfZ",
        "colab_type": "code",
        "colab": {}
      },
      "source": [
        ""
      ],
      "execution_count": null,
      "outputs": []
    },
    {
      "cell_type": "code",
      "metadata": {
        "id": "hfTFu_b5Vvid",
        "colab_type": "code",
        "colab": {}
      },
      "source": [
        ""
      ],
      "execution_count": null,
      "outputs": []
    },
    {
      "cell_type": "code",
      "metadata": {
        "id": "gp3qalvDVvla",
        "colab_type": "code",
        "colab": {}
      },
      "source": [
        ""
      ],
      "execution_count": null,
      "outputs": []
    },
    {
      "cell_type": "code",
      "metadata": {
        "id": "eCRLcNSGVvoU",
        "colab_type": "code",
        "colab": {}
      },
      "source": [
        ""
      ],
      "execution_count": null,
      "outputs": []
    },
    {
      "cell_type": "code",
      "metadata": {
        "id": "RaGXpCi3Vvrb",
        "colab_type": "code",
        "colab": {}
      },
      "source": [
        ""
      ],
      "execution_count": null,
      "outputs": []
    },
    {
      "cell_type": "code",
      "metadata": {
        "id": "EvkgzYdbVwl8",
        "colab_type": "code",
        "colab": {}
      },
      "source": [
        ""
      ],
      "execution_count": null,
      "outputs": []
    },
    {
      "cell_type": "code",
      "metadata": {
        "id": "tJJhhHvHVwqE",
        "colab_type": "code",
        "colab": {}
      },
      "source": [
        ""
      ],
      "execution_count": null,
      "outputs": []
    },
    {
      "cell_type": "code",
      "metadata": {
        "id": "MYVvEgWPVwuL",
        "colab_type": "code",
        "colab": {}
      },
      "source": [
        ""
      ],
      "execution_count": null,
      "outputs": []
    },
    {
      "cell_type": "code",
      "metadata": {
        "id": "DhJVk0C8Vwyh",
        "colab_type": "code",
        "colab": {}
      },
      "source": [
        ""
      ],
      "execution_count": null,
      "outputs": []
    },
    {
      "cell_type": "code",
      "metadata": {
        "id": "CvUMHcXlVw47",
        "colab_type": "code",
        "colab": {}
      },
      "source": [
        ""
      ],
      "execution_count": null,
      "outputs": []
    },
    {
      "cell_type": "code",
      "metadata": {
        "id": "uS_-4LOWVw8v",
        "colab_type": "code",
        "colab": {}
      },
      "source": [
        ""
      ],
      "execution_count": null,
      "outputs": []
    },
    {
      "cell_type": "code",
      "metadata": {
        "id": "Q11cCy4bVw_3",
        "colab_type": "code",
        "colab": {}
      },
      "source": [
        ""
      ],
      "execution_count": null,
      "outputs": []
    },
    {
      "cell_type": "code",
      "metadata": {
        "id": "wT3Poo5UVw2S",
        "colab_type": "code",
        "colab": {}
      },
      "source": [
        ""
      ],
      "execution_count": null,
      "outputs": []
    },
    {
      "cell_type": "code",
      "metadata": {
        "id": "_NBqbIC_Q9yC",
        "colab_type": "code",
        "colab": {
          "base_uri": "https://localhost:8080/",
          "height": 762
        },
        "outputId": "ff45c2b2-a66b-45a8-d8db-2d1fb2377aa8"
      },
      "source": [
        "thousands_df = pd.read_csv('dataset-of-00s.csv')\n",
        "\n",
        "print(\"2000s Dataframe Shape: \", thousands_df.shape)\n",
        "thousands_df"
      ],
      "execution_count": 12,
      "outputs": [
        {
          "output_type": "stream",
          "text": [
            "2000s Dataframe Shape:  (5872, 19)\n"
          ],
          "name": "stdout"
        },
        {
          "output_type": "execute_result",
          "data": {
            "text/html": [
              "<div>\n",
              "<style scoped>\n",
              "    .dataframe tbody tr th:only-of-type {\n",
              "        vertical-align: middle;\n",
              "    }\n",
              "\n",
              "    .dataframe tbody tr th {\n",
              "        vertical-align: top;\n",
              "    }\n",
              "\n",
              "    .dataframe thead th {\n",
              "        text-align: right;\n",
              "    }\n",
              "</style>\n",
              "<table border=\"1\" class=\"dataframe\">\n",
              "  <thead>\n",
              "    <tr style=\"text-align: right;\">\n",
              "      <th></th>\n",
              "      <th>track</th>\n",
              "      <th>artist</th>\n",
              "      <th>uri</th>\n",
              "      <th>danceability</th>\n",
              "      <th>energy</th>\n",
              "      <th>key</th>\n",
              "      <th>loudness</th>\n",
              "      <th>mode</th>\n",
              "      <th>speechiness</th>\n",
              "      <th>acousticness</th>\n",
              "      <th>instrumentalness</th>\n",
              "      <th>liveness</th>\n",
              "      <th>valence</th>\n",
              "      <th>tempo</th>\n",
              "      <th>duration_ms</th>\n",
              "      <th>time_signature</th>\n",
              "      <th>chorus_hit</th>\n",
              "      <th>sections</th>\n",
              "      <th>target</th>\n",
              "    </tr>\n",
              "  </thead>\n",
              "  <tbody>\n",
              "    <tr>\n",
              "      <th>0</th>\n",
              "      <td>Lucky Man</td>\n",
              "      <td>Montgomery Gentry</td>\n",
              "      <td>spotify:track:4GiXBCUF7H6YfNQsnBRIzl</td>\n",
              "      <td>0.578</td>\n",
              "      <td>0.4710</td>\n",
              "      <td>4</td>\n",
              "      <td>-7.270</td>\n",
              "      <td>1</td>\n",
              "      <td>0.0289</td>\n",
              "      <td>0.368000</td>\n",
              "      <td>0.000000</td>\n",
              "      <td>0.1590</td>\n",
              "      <td>0.532</td>\n",
              "      <td>133.061</td>\n",
              "      <td>196707</td>\n",
              "      <td>4</td>\n",
              "      <td>30.88059</td>\n",
              "      <td>13</td>\n",
              "      <td>1</td>\n",
              "    </tr>\n",
              "    <tr>\n",
              "      <th>1</th>\n",
              "      <td>On The Hotline</td>\n",
              "      <td>Pretty Ricky</td>\n",
              "      <td>spotify:track:1zyqZONW985Cs4osz9wlsu</td>\n",
              "      <td>0.704</td>\n",
              "      <td>0.8540</td>\n",
              "      <td>10</td>\n",
              "      <td>-5.477</td>\n",
              "      <td>0</td>\n",
              "      <td>0.1830</td>\n",
              "      <td>0.018500</td>\n",
              "      <td>0.000000</td>\n",
              "      <td>0.1480</td>\n",
              "      <td>0.688</td>\n",
              "      <td>92.988</td>\n",
              "      <td>242587</td>\n",
              "      <td>4</td>\n",
              "      <td>41.51106</td>\n",
              "      <td>10</td>\n",
              "      <td>1</td>\n",
              "    </tr>\n",
              "    <tr>\n",
              "      <th>2</th>\n",
              "      <td>Clouds Of Dementia</td>\n",
              "      <td>Candlemass</td>\n",
              "      <td>spotify:track:6cHZf7RbxXCKwEkgAZT4mY</td>\n",
              "      <td>0.162</td>\n",
              "      <td>0.8360</td>\n",
              "      <td>9</td>\n",
              "      <td>-3.009</td>\n",
              "      <td>1</td>\n",
              "      <td>0.0473</td>\n",
              "      <td>0.000111</td>\n",
              "      <td>0.004570</td>\n",
              "      <td>0.1740</td>\n",
              "      <td>0.300</td>\n",
              "      <td>86.964</td>\n",
              "      <td>338893</td>\n",
              "      <td>4</td>\n",
              "      <td>65.32887</td>\n",
              "      <td>13</td>\n",
              "      <td>0</td>\n",
              "    </tr>\n",
              "    <tr>\n",
              "      <th>3</th>\n",
              "      <td>Heavy Metal, Raise Hell!</td>\n",
              "      <td>Zwartketterij</td>\n",
              "      <td>spotify:track:2IjBPp2vMeX7LggzRN3iSX</td>\n",
              "      <td>0.188</td>\n",
              "      <td>0.9940</td>\n",
              "      <td>4</td>\n",
              "      <td>-3.745</td>\n",
              "      <td>1</td>\n",
              "      <td>0.1660</td>\n",
              "      <td>0.000007</td>\n",
              "      <td>0.078400</td>\n",
              "      <td>0.1920</td>\n",
              "      <td>0.333</td>\n",
              "      <td>148.440</td>\n",
              "      <td>255667</td>\n",
              "      <td>4</td>\n",
              "      <td>58.59528</td>\n",
              "      <td>9</td>\n",
              "      <td>0</td>\n",
              "    </tr>\n",
              "    <tr>\n",
              "      <th>4</th>\n",
              "      <td>I Got A Feelin'</td>\n",
              "      <td>Billy Currington</td>\n",
              "      <td>spotify:track:1tF370eYXUcWwkIvaq3IGz</td>\n",
              "      <td>0.630</td>\n",
              "      <td>0.7640</td>\n",
              "      <td>2</td>\n",
              "      <td>-4.353</td>\n",
              "      <td>1</td>\n",
              "      <td>0.0275</td>\n",
              "      <td>0.363000</td>\n",
              "      <td>0.000000</td>\n",
              "      <td>0.1250</td>\n",
              "      <td>0.631</td>\n",
              "      <td>112.098</td>\n",
              "      <td>193760</td>\n",
              "      <td>4</td>\n",
              "      <td>22.62384</td>\n",
              "      <td>10</td>\n",
              "      <td>1</td>\n",
              "    </tr>\n",
              "    <tr>\n",
              "      <th>...</th>\n",
              "      <td>...</td>\n",
              "      <td>...</td>\n",
              "      <td>...</td>\n",
              "      <td>...</td>\n",
              "      <td>...</td>\n",
              "      <td>...</td>\n",
              "      <td>...</td>\n",
              "      <td>...</td>\n",
              "      <td>...</td>\n",
              "      <td>...</td>\n",
              "      <td>...</td>\n",
              "      <td>...</td>\n",
              "      <td>...</td>\n",
              "      <td>...</td>\n",
              "      <td>...</td>\n",
              "      <td>...</td>\n",
              "      <td>...</td>\n",
              "      <td>...</td>\n",
              "      <td>...</td>\n",
              "    </tr>\n",
              "    <tr>\n",
              "      <th>5867</th>\n",
              "      <td>Summer Rain</td>\n",
              "      <td>Carl Thomas</td>\n",
              "      <td>spotify:track:0NBHHa8wwwmBnn3aAzX5wJ</td>\n",
              "      <td>0.667</td>\n",
              "      <td>0.6270</td>\n",
              "      <td>6</td>\n",
              "      <td>-10.488</td>\n",
              "      <td>0</td>\n",
              "      <td>0.0654</td>\n",
              "      <td>0.097200</td>\n",
              "      <td>0.000052</td>\n",
              "      <td>0.1110</td>\n",
              "      <td>0.784</td>\n",
              "      <td>186.081</td>\n",
              "      <td>232560</td>\n",
              "      <td>4</td>\n",
              "      <td>40.87045</td>\n",
              "      <td>10</td>\n",
              "      <td>1</td>\n",
              "    </tr>\n",
              "    <tr>\n",
              "      <th>5868</th>\n",
              "      <td>And I</td>\n",
              "      <td>Ciara</td>\n",
              "      <td>spotify:track:1Jp9n1uHB72CfK31j4mEPh</td>\n",
              "      <td>0.691</td>\n",
              "      <td>0.3890</td>\n",
              "      <td>6</td>\n",
              "      <td>-10.125</td>\n",
              "      <td>1</td>\n",
              "      <td>0.0653</td>\n",
              "      <td>0.255000</td>\n",
              "      <td>0.000000</td>\n",
              "      <td>0.0981</td>\n",
              "      <td>0.437</td>\n",
              "      <td>122.219</td>\n",
              "      <td>233840</td>\n",
              "      <td>4</td>\n",
              "      <td>81.77735</td>\n",
              "      <td>7</td>\n",
              "      <td>1</td>\n",
              "    </tr>\n",
              "    <tr>\n",
              "      <th>5869</th>\n",
              "      <td>Mass in B minor BWV 232, Missa: Duetto - Chris...</td>\n",
              "      <td>Johann Sebastian Bach</td>\n",
              "      <td>spotify:track:4NIOi1ImMfdufRTsgoKjbD</td>\n",
              "      <td>0.297</td>\n",
              "      <td>0.0773</td>\n",
              "      <td>2</td>\n",
              "      <td>-23.839</td>\n",
              "      <td>1</td>\n",
              "      <td>0.0620</td>\n",
              "      <td>0.951000</td>\n",
              "      <td>0.000217</td>\n",
              "      <td>0.1210</td>\n",
              "      <td>0.401</td>\n",
              "      <td>75.916</td>\n",
              "      <td>275560</td>\n",
              "      <td>4</td>\n",
              "      <td>37.51903</td>\n",
              "      <td>11</td>\n",
              "      <td>0</td>\n",
              "    </tr>\n",
              "    <tr>\n",
              "      <th>5870</th>\n",
              "      <td>Loog</td>\n",
              "      <td>The Clean</td>\n",
              "      <td>spotify:track:2Qyj2nUdm8y37TCCzDasFn</td>\n",
              "      <td>0.390</td>\n",
              "      <td>0.6010</td>\n",
              "      <td>7</td>\n",
              "      <td>-8.236</td>\n",
              "      <td>0</td>\n",
              "      <td>0.0291</td>\n",
              "      <td>0.031300</td>\n",
              "      <td>0.947000</td>\n",
              "      <td>0.1190</td>\n",
              "      <td>0.439</td>\n",
              "      <td>116.122</td>\n",
              "      <td>223627</td>\n",
              "      <td>4</td>\n",
              "      <td>39.84092</td>\n",
              "      <td>11</td>\n",
              "      <td>0</td>\n",
              "    </tr>\n",
              "    <tr>\n",
              "      <th>5871</th>\n",
              "      <td>What The World Needs</td>\n",
              "      <td>Wynonna</td>\n",
              "      <td>spotify:track:38Q6YF0TO7E4Dq6K0zdVUk</td>\n",
              "      <td>0.539</td>\n",
              "      <td>0.7400</td>\n",
              "      <td>0</td>\n",
              "      <td>-5.566</td>\n",
              "      <td>0</td>\n",
              "      <td>0.0490</td>\n",
              "      <td>0.194000</td>\n",
              "      <td>0.000000</td>\n",
              "      <td>0.0760</td>\n",
              "      <td>0.675</td>\n",
              "      <td>170.054</td>\n",
              "      <td>217160</td>\n",
              "      <td>4</td>\n",
              "      <td>24.95471</td>\n",
              "      <td>13</td>\n",
              "      <td>1</td>\n",
              "    </tr>\n",
              "  </tbody>\n",
              "</table>\n",
              "<p>5872 rows × 19 columns</p>\n",
              "</div>"
            ],
            "text/plain": [
              "                                                  track  ... target\n",
              "0                                             Lucky Man  ...      1\n",
              "1                                        On The Hotline  ...      1\n",
              "2                                    Clouds Of Dementia  ...      0\n",
              "3                              Heavy Metal, Raise Hell!  ...      0\n",
              "4                                       I Got A Feelin'  ...      1\n",
              "...                                                 ...  ...    ...\n",
              "5867                                        Summer Rain  ...      1\n",
              "5868                                              And I  ...      1\n",
              "5869  Mass in B minor BWV 232, Missa: Duetto - Chris...  ...      0\n",
              "5870                                               Loog  ...      0\n",
              "5871                               What The World Needs  ...      1\n",
              "\n",
              "[5872 rows x 19 columns]"
            ]
          },
          "metadata": {
            "tags": []
          },
          "execution_count": 12
        }
      ]
    },
    {
      "cell_type": "code",
      "metadata": {
        "id": "E4IeGQo5Vx6H",
        "colab_type": "code",
        "colab": {
          "base_uri": "https://localhost:8080/",
          "height": 34
        },
        "outputId": "5677936a-eea7-4f9a-ceb1-4fa533352db7"
      },
      "source": [
        "# drop duplicate tracks\n",
        "thousands_df.drop_duplicates(subset='track')\n",
        "print('2000s Shape after dropping: ', thousands_df.shape)"
      ],
      "execution_count": 14,
      "outputs": [
        {
          "output_type": "stream",
          "text": [
            "2000s Shape after dropping:  (5872, 19)\n"
          ],
          "name": "stdout"
        }
      ]
    },
    {
      "cell_type": "code",
      "metadata": {
        "id": "JJVq8zxcVx-R",
        "colab_type": "code",
        "colab": {}
      },
      "source": [
        ""
      ],
      "execution_count": null,
      "outputs": []
    },
    {
      "cell_type": "code",
      "metadata": {
        "id": "IllQD_RdVyBw",
        "colab_type": "code",
        "colab": {}
      },
      "source": [
        ""
      ],
      "execution_count": null,
      "outputs": []
    },
    {
      "cell_type": "code",
      "metadata": {
        "id": "g4vE9f1-Q91s",
        "colab_type": "code",
        "colab": {
          "base_uri": "https://localhost:8080/",
          "height": 677
        },
        "outputId": "e9530cd0-3129-4c3f-a2af-51af78bbbd46"
      },
      "source": [
        "tens_df = pd.read_csv('dataset-of-10s.csv')\n",
        "\n",
        "print(\"2010s Dataframe Shape: \", tens_df.shape)\n",
        "tens_df"
      ],
      "execution_count": 13,
      "outputs": [
        {
          "output_type": "stream",
          "text": [
            "2010s Dataframe Shape:  (6398, 19)\n"
          ],
          "name": "stdout"
        },
        {
          "output_type": "execute_result",
          "data": {
            "text/html": [
              "<div>\n",
              "<style scoped>\n",
              "    .dataframe tbody tr th:only-of-type {\n",
              "        vertical-align: middle;\n",
              "    }\n",
              "\n",
              "    .dataframe tbody tr th {\n",
              "        vertical-align: top;\n",
              "    }\n",
              "\n",
              "    .dataframe thead th {\n",
              "        text-align: right;\n",
              "    }\n",
              "</style>\n",
              "<table border=\"1\" class=\"dataframe\">\n",
              "  <thead>\n",
              "    <tr style=\"text-align: right;\">\n",
              "      <th></th>\n",
              "      <th>track</th>\n",
              "      <th>artist</th>\n",
              "      <th>uri</th>\n",
              "      <th>danceability</th>\n",
              "      <th>energy</th>\n",
              "      <th>key</th>\n",
              "      <th>loudness</th>\n",
              "      <th>mode</th>\n",
              "      <th>speechiness</th>\n",
              "      <th>acousticness</th>\n",
              "      <th>instrumentalness</th>\n",
              "      <th>liveness</th>\n",
              "      <th>valence</th>\n",
              "      <th>tempo</th>\n",
              "      <th>duration_ms</th>\n",
              "      <th>time_signature</th>\n",
              "      <th>chorus_hit</th>\n",
              "      <th>sections</th>\n",
              "      <th>target</th>\n",
              "    </tr>\n",
              "  </thead>\n",
              "  <tbody>\n",
              "    <tr>\n",
              "      <th>0</th>\n",
              "      <td>Wild Things</td>\n",
              "      <td>Alessia Cara</td>\n",
              "      <td>spotify:track:2ZyuwVvV6Z3XJaXIFbspeE</td>\n",
              "      <td>0.741</td>\n",
              "      <td>0.626</td>\n",
              "      <td>1</td>\n",
              "      <td>-4.826</td>\n",
              "      <td>0</td>\n",
              "      <td>0.0886</td>\n",
              "      <td>0.02000</td>\n",
              "      <td>0.000000</td>\n",
              "      <td>0.0828</td>\n",
              "      <td>0.7060</td>\n",
              "      <td>108.029</td>\n",
              "      <td>188493</td>\n",
              "      <td>4</td>\n",
              "      <td>41.18681</td>\n",
              "      <td>10</td>\n",
              "      <td>1</td>\n",
              "    </tr>\n",
              "    <tr>\n",
              "      <th>1</th>\n",
              "      <td>Surfboard</td>\n",
              "      <td>Esquivel!</td>\n",
              "      <td>spotify:track:61APOtq25SCMuK0V5w2Kgp</td>\n",
              "      <td>0.447</td>\n",
              "      <td>0.247</td>\n",
              "      <td>5</td>\n",
              "      <td>-14.661</td>\n",
              "      <td>0</td>\n",
              "      <td>0.0346</td>\n",
              "      <td>0.87100</td>\n",
              "      <td>0.814000</td>\n",
              "      <td>0.0946</td>\n",
              "      <td>0.2500</td>\n",
              "      <td>155.489</td>\n",
              "      <td>176880</td>\n",
              "      <td>3</td>\n",
              "      <td>33.18083</td>\n",
              "      <td>9</td>\n",
              "      <td>0</td>\n",
              "    </tr>\n",
              "    <tr>\n",
              "      <th>2</th>\n",
              "      <td>Love Someone</td>\n",
              "      <td>Lukas Graham</td>\n",
              "      <td>spotify:track:2JqnpexlO9dmvjUMCaLCLJ</td>\n",
              "      <td>0.550</td>\n",
              "      <td>0.415</td>\n",
              "      <td>9</td>\n",
              "      <td>-6.557</td>\n",
              "      <td>0</td>\n",
              "      <td>0.0520</td>\n",
              "      <td>0.16100</td>\n",
              "      <td>0.000000</td>\n",
              "      <td>0.1080</td>\n",
              "      <td>0.2740</td>\n",
              "      <td>172.065</td>\n",
              "      <td>205463</td>\n",
              "      <td>4</td>\n",
              "      <td>44.89147</td>\n",
              "      <td>9</td>\n",
              "      <td>1</td>\n",
              "    </tr>\n",
              "    <tr>\n",
              "      <th>3</th>\n",
              "      <td>Music To My Ears (feat. Tory Lanez)</td>\n",
              "      <td>Keys N Krates</td>\n",
              "      <td>spotify:track:0cjfLhk8WJ3etPTCseKXtk</td>\n",
              "      <td>0.502</td>\n",
              "      <td>0.648</td>\n",
              "      <td>0</td>\n",
              "      <td>-5.698</td>\n",
              "      <td>0</td>\n",
              "      <td>0.0527</td>\n",
              "      <td>0.00513</td>\n",
              "      <td>0.000000</td>\n",
              "      <td>0.2040</td>\n",
              "      <td>0.2910</td>\n",
              "      <td>91.837</td>\n",
              "      <td>193043</td>\n",
              "      <td>4</td>\n",
              "      <td>29.52521</td>\n",
              "      <td>7</td>\n",
              "      <td>0</td>\n",
              "    </tr>\n",
              "    <tr>\n",
              "      <th>4</th>\n",
              "      <td>Juju On That Beat (TZ Anthem)</td>\n",
              "      <td>Zay Hilfigerrr &amp; Zayion McCall</td>\n",
              "      <td>spotify:track:1lItf5ZXJc1by9SbPeljFd</td>\n",
              "      <td>0.807</td>\n",
              "      <td>0.887</td>\n",
              "      <td>1</td>\n",
              "      <td>-3.892</td>\n",
              "      <td>1</td>\n",
              "      <td>0.2750</td>\n",
              "      <td>0.00381</td>\n",
              "      <td>0.000000</td>\n",
              "      <td>0.3910</td>\n",
              "      <td>0.7800</td>\n",
              "      <td>160.517</td>\n",
              "      <td>144244</td>\n",
              "      <td>4</td>\n",
              "      <td>24.99199</td>\n",
              "      <td>8</td>\n",
              "      <td>1</td>\n",
              "    </tr>\n",
              "    <tr>\n",
              "      <th>...</th>\n",
              "      <td>...</td>\n",
              "      <td>...</td>\n",
              "      <td>...</td>\n",
              "      <td>...</td>\n",
              "      <td>...</td>\n",
              "      <td>...</td>\n",
              "      <td>...</td>\n",
              "      <td>...</td>\n",
              "      <td>...</td>\n",
              "      <td>...</td>\n",
              "      <td>...</td>\n",
              "      <td>...</td>\n",
              "      <td>...</td>\n",
              "      <td>...</td>\n",
              "      <td>...</td>\n",
              "      <td>...</td>\n",
              "      <td>...</td>\n",
              "      <td>...</td>\n",
              "      <td>...</td>\n",
              "    </tr>\n",
              "    <tr>\n",
              "      <th>6393</th>\n",
              "      <td>Lotus Flowers</td>\n",
              "      <td>Yolta</td>\n",
              "      <td>spotify:track:4t1TljQWJ6ZuoSY67zVvBI</td>\n",
              "      <td>0.172</td>\n",
              "      <td>0.358</td>\n",
              "      <td>9</td>\n",
              "      <td>-14.430</td>\n",
              "      <td>1</td>\n",
              "      <td>0.0342</td>\n",
              "      <td>0.88600</td>\n",
              "      <td>0.966000</td>\n",
              "      <td>0.3140</td>\n",
              "      <td>0.0361</td>\n",
              "      <td>72.272</td>\n",
              "      <td>150857</td>\n",
              "      <td>4</td>\n",
              "      <td>24.30824</td>\n",
              "      <td>7</td>\n",
              "      <td>0</td>\n",
              "    </tr>\n",
              "    <tr>\n",
              "      <th>6394</th>\n",
              "      <td>Calling My Spirit</td>\n",
              "      <td>Kodak Black</td>\n",
              "      <td>spotify:track:2MShy1GSSgbmGUxADNIao5</td>\n",
              "      <td>0.910</td>\n",
              "      <td>0.366</td>\n",
              "      <td>1</td>\n",
              "      <td>-9.954</td>\n",
              "      <td>1</td>\n",
              "      <td>0.0941</td>\n",
              "      <td>0.09960</td>\n",
              "      <td>0.000000</td>\n",
              "      <td>0.2610</td>\n",
              "      <td>0.7400</td>\n",
              "      <td>119.985</td>\n",
              "      <td>152000</td>\n",
              "      <td>4</td>\n",
              "      <td>32.53856</td>\n",
              "      <td>8</td>\n",
              "      <td>1</td>\n",
              "    </tr>\n",
              "    <tr>\n",
              "      <th>6395</th>\n",
              "      <td>Teenage Dream</td>\n",
              "      <td>Katy Perry</td>\n",
              "      <td>spotify:track:55qBw1900pZKfXJ6Q9A2Lc</td>\n",
              "      <td>0.719</td>\n",
              "      <td>0.804</td>\n",
              "      <td>10</td>\n",
              "      <td>-4.581</td>\n",
              "      <td>1</td>\n",
              "      <td>0.0355</td>\n",
              "      <td>0.01320</td>\n",
              "      <td>0.000003</td>\n",
              "      <td>0.1390</td>\n",
              "      <td>0.6050</td>\n",
              "      <td>119.999</td>\n",
              "      <td>227760</td>\n",
              "      <td>4</td>\n",
              "      <td>20.73371</td>\n",
              "      <td>7</td>\n",
              "      <td>1</td>\n",
              "    </tr>\n",
              "    <tr>\n",
              "      <th>6396</th>\n",
              "      <td>Stormy Weather</td>\n",
              "      <td>Oscar Peterson</td>\n",
              "      <td>spotify:track:4o9npmYHrOF1rUxxTVH8h4</td>\n",
              "      <td>0.600</td>\n",
              "      <td>0.177</td>\n",
              "      <td>7</td>\n",
              "      <td>-16.070</td>\n",
              "      <td>1</td>\n",
              "      <td>0.0561</td>\n",
              "      <td>0.98900</td>\n",
              "      <td>0.868000</td>\n",
              "      <td>0.1490</td>\n",
              "      <td>0.5600</td>\n",
              "      <td>120.030</td>\n",
              "      <td>213387</td>\n",
              "      <td>4</td>\n",
              "      <td>21.65301</td>\n",
              "      <td>14</td>\n",
              "      <td>0</td>\n",
              "    </tr>\n",
              "    <tr>\n",
              "      <th>6397</th>\n",
              "      <td>Dust</td>\n",
              "      <td>Hans Zimmer</td>\n",
              "      <td>spotify:track:2khIaVUkbMmDHB596lyMG3</td>\n",
              "      <td>0.121</td>\n",
              "      <td>0.123</td>\n",
              "      <td>4</td>\n",
              "      <td>-23.025</td>\n",
              "      <td>0</td>\n",
              "      <td>0.0443</td>\n",
              "      <td>0.96400</td>\n",
              "      <td>0.696000</td>\n",
              "      <td>0.1030</td>\n",
              "      <td>0.0297</td>\n",
              "      <td>95.182</td>\n",
              "      <td>341396</td>\n",
              "      <td>4</td>\n",
              "      <td>71.05343</td>\n",
              "      <td>15</td>\n",
              "      <td>0</td>\n",
              "    </tr>\n",
              "  </tbody>\n",
              "</table>\n",
              "<p>6398 rows × 19 columns</p>\n",
              "</div>"
            ],
            "text/plain": [
              "                                    track  ... target\n",
              "0                             Wild Things  ...      1\n",
              "1                               Surfboard  ...      0\n",
              "2                            Love Someone  ...      1\n",
              "3     Music To My Ears (feat. Tory Lanez)  ...      0\n",
              "4           Juju On That Beat (TZ Anthem)  ...      1\n",
              "...                                   ...  ...    ...\n",
              "6393                        Lotus Flowers  ...      0\n",
              "6394                    Calling My Spirit  ...      1\n",
              "6395                        Teenage Dream  ...      1\n",
              "6396                       Stormy Weather  ...      0\n",
              "6397                                 Dust  ...      0\n",
              "\n",
              "[6398 rows x 19 columns]"
            ]
          },
          "metadata": {
            "tags": []
          },
          "execution_count": 13
        }
      ]
    },
    {
      "cell_type": "code",
      "metadata": {
        "id": "30AgHP6OVyFO",
        "colab_type": "code",
        "colab": {
          "base_uri": "https://localhost:8080/",
          "height": 34
        },
        "outputId": "e6ba944b-f325-4f07-a951-cda0e1ca04ba"
      },
      "source": [
        "# drop duplicate tracks\n",
        "tens_df.drop_duplicates(subset='track')\n",
        "print('2010s Shape after dropping: ', tens_df.shape)"
      ],
      "execution_count": 15,
      "outputs": [
        {
          "output_type": "stream",
          "text": [
            "2010s Shape after dropping:  (6398, 19)\n"
          ],
          "name": "stdout"
        }
      ]
    },
    {
      "cell_type": "code",
      "metadata": {
        "id": "sekw8q34VyIc",
        "colab_type": "code",
        "colab": {}
      },
      "source": [
        ""
      ],
      "execution_count": null,
      "outputs": []
    },
    {
      "cell_type": "code",
      "metadata": {
        "id": "6kBkua8DVyUE",
        "colab_type": "code",
        "colab": {}
      },
      "source": [
        ""
      ],
      "execution_count": null,
      "outputs": []
    },
    {
      "cell_type": "code",
      "metadata": {
        "id": "tuuJ5zHIVyXt",
        "colab_type": "code",
        "colab": {}
      },
      "source": [
        ""
      ],
      "execution_count": null,
      "outputs": []
    },
    {
      "cell_type": "code",
      "metadata": {
        "id": "coPVK6olR9aj",
        "colab_type": "code",
        "colab": {}
      },
      "source": [
        ""
      ],
      "execution_count": null,
      "outputs": []
    },
    {
      "cell_type": "code",
      "metadata": {
        "id": "GxyT4WWdVzMb",
        "colab_type": "code",
        "colab": {}
      },
      "source": [
        ""
      ],
      "execution_count": null,
      "outputs": []
    },
    {
      "cell_type": "code",
      "metadata": {
        "id": "rFkwxUYgVzP5",
        "colab_type": "code",
        "colab": {}
      },
      "source": [
        ""
      ],
      "execution_count": null,
      "outputs": []
    },
    {
      "cell_type": "code",
      "metadata": {
        "id": "KvqoFTqQVzT-",
        "colab_type": "code",
        "colab": {}
      },
      "source": [
        ""
      ],
      "execution_count": null,
      "outputs": []
    },
    {
      "cell_type": "code",
      "metadata": {
        "id": "HbbhP3J5VzXT",
        "colab_type": "code",
        "colab": {}
      },
      "source": [
        ""
      ],
      "execution_count": null,
      "outputs": []
    },
    {
      "cell_type": "code",
      "metadata": {
        "id": "h9vOpRSaVzbY",
        "colab_type": "code",
        "colab": {}
      },
      "source": [
        ""
      ],
      "execution_count": null,
      "outputs": []
    },
    {
      "cell_type": "code",
      "metadata": {
        "id": "Ki0DikowVzfN",
        "colab_type": "code",
        "colab": {}
      },
      "source": [
        ""
      ],
      "execution_count": null,
      "outputs": []
    },
    {
      "cell_type": "code",
      "metadata": {
        "id": "JwioHm5nVzh6",
        "colab_type": "code",
        "colab": {}
      },
      "source": [
        ""
      ],
      "execution_count": null,
      "outputs": []
    },
    {
      "cell_type": "code",
      "metadata": {
        "id": "ngzSK0M9VzmP",
        "colab_type": "code",
        "colab": {}
      },
      "source": [
        ""
      ],
      "execution_count": null,
      "outputs": []
    },
    {
      "cell_type": "code",
      "metadata": {
        "id": "e5oN6r3XVzpP",
        "colab_type": "code",
        "colab": {}
      },
      "source": [
        "complete_list = pd.concat([sixties_df, seventies_df, eighties_df, ninties_df, thousands_df, tens_df])\n",
        "# Compiling all .csv files into one df"
      ],
      "execution_count": 16,
      "outputs": []
    },
    {
      "cell_type": "code",
      "metadata": {
        "id": "fNKQ0psTjnZC",
        "colab_type": "code",
        "colab": {
          "base_uri": "https://localhost:8080/",
          "height": 34
        },
        "outputId": "44d5f716-5dc4-42e7-d0c4-daf01610b790"
      },
      "source": [
        "print(complete_list.shape)\n",
        "complete_list.drop(\"uri\",axis=1,inplace=True)"
      ],
      "execution_count": 17,
      "outputs": [
        {
          "output_type": "stream",
          "text": [
            "(41106, 19)\n"
          ],
          "name": "stdout"
        }
      ]
    },
    {
      "cell_type": "code",
      "metadata": {
        "id": "0HFjD53WTJ69",
        "colab_type": "code",
        "colab": {}
      },
      "source": [
        "complete_list.drop(columns=['chorus_hit'], inplace=True)"
      ],
      "execution_count": 18,
      "outputs": []
    },
    {
      "cell_type": "code",
      "metadata": {
        "id": "3XZVQvo8lC5C",
        "colab_type": "code",
        "colab": {
          "base_uri": "https://localhost:8080/",
          "height": 343
        },
        "outputId": "511339a6-1024-44a3-a603-267ede51e4fe"
      },
      "source": [
        "complete_list.head()"
      ],
      "execution_count": 19,
      "outputs": [
        {
          "output_type": "execute_result",
          "data": {
            "text/html": [
              "<div>\n",
              "<style scoped>\n",
              "    .dataframe tbody tr th:only-of-type {\n",
              "        vertical-align: middle;\n",
              "    }\n",
              "\n",
              "    .dataframe tbody tr th {\n",
              "        vertical-align: top;\n",
              "    }\n",
              "\n",
              "    .dataframe thead th {\n",
              "        text-align: right;\n",
              "    }\n",
              "</style>\n",
              "<table border=\"1\" class=\"dataframe\">\n",
              "  <thead>\n",
              "    <tr style=\"text-align: right;\">\n",
              "      <th></th>\n",
              "      <th>track</th>\n",
              "      <th>artist</th>\n",
              "      <th>danceability</th>\n",
              "      <th>energy</th>\n",
              "      <th>key</th>\n",
              "      <th>loudness</th>\n",
              "      <th>mode</th>\n",
              "      <th>speechiness</th>\n",
              "      <th>acousticness</th>\n",
              "      <th>instrumentalness</th>\n",
              "      <th>liveness</th>\n",
              "      <th>valence</th>\n",
              "      <th>tempo</th>\n",
              "      <th>duration_ms</th>\n",
              "      <th>time_signature</th>\n",
              "      <th>sections</th>\n",
              "      <th>target</th>\n",
              "    </tr>\n",
              "  </thead>\n",
              "  <tbody>\n",
              "    <tr>\n",
              "      <th>0</th>\n",
              "      <td>Jealous Kind Of Fella</td>\n",
              "      <td>Garland Green</td>\n",
              "      <td>0.417</td>\n",
              "      <td>0.620</td>\n",
              "      <td>3</td>\n",
              "      <td>-7.727</td>\n",
              "      <td>1</td>\n",
              "      <td>0.0403</td>\n",
              "      <td>0.490</td>\n",
              "      <td>0.000000</td>\n",
              "      <td>0.0779</td>\n",
              "      <td>0.845</td>\n",
              "      <td>185.655</td>\n",
              "      <td>173533</td>\n",
              "      <td>3</td>\n",
              "      <td>9</td>\n",
              "      <td>1</td>\n",
              "    </tr>\n",
              "    <tr>\n",
              "      <th>1</th>\n",
              "      <td>Initials B.B.</td>\n",
              "      <td>Serge Gainsbourg</td>\n",
              "      <td>0.498</td>\n",
              "      <td>0.505</td>\n",
              "      <td>3</td>\n",
              "      <td>-12.475</td>\n",
              "      <td>1</td>\n",
              "      <td>0.0337</td>\n",
              "      <td>0.018</td>\n",
              "      <td>0.107000</td>\n",
              "      <td>0.1760</td>\n",
              "      <td>0.797</td>\n",
              "      <td>101.801</td>\n",
              "      <td>213613</td>\n",
              "      <td>4</td>\n",
              "      <td>10</td>\n",
              "      <td>0</td>\n",
              "    </tr>\n",
              "    <tr>\n",
              "      <th>2</th>\n",
              "      <td>Melody Twist</td>\n",
              "      <td>Lord Melody</td>\n",
              "      <td>0.657</td>\n",
              "      <td>0.649</td>\n",
              "      <td>5</td>\n",
              "      <td>-13.392</td>\n",
              "      <td>1</td>\n",
              "      <td>0.0380</td>\n",
              "      <td>0.846</td>\n",
              "      <td>0.000004</td>\n",
              "      <td>0.1190</td>\n",
              "      <td>0.908</td>\n",
              "      <td>115.940</td>\n",
              "      <td>223960</td>\n",
              "      <td>4</td>\n",
              "      <td>12</td>\n",
              "      <td>0</td>\n",
              "    </tr>\n",
              "    <tr>\n",
              "      <th>3</th>\n",
              "      <td>Mi Bomba Sonó</td>\n",
              "      <td>Celia Cruz</td>\n",
              "      <td>0.590</td>\n",
              "      <td>0.545</td>\n",
              "      <td>7</td>\n",
              "      <td>-12.058</td>\n",
              "      <td>0</td>\n",
              "      <td>0.1040</td>\n",
              "      <td>0.706</td>\n",
              "      <td>0.024600</td>\n",
              "      <td>0.0610</td>\n",
              "      <td>0.967</td>\n",
              "      <td>105.592</td>\n",
              "      <td>157907</td>\n",
              "      <td>4</td>\n",
              "      <td>8</td>\n",
              "      <td>0</td>\n",
              "    </tr>\n",
              "    <tr>\n",
              "      <th>4</th>\n",
              "      <td>Uravu Solla</td>\n",
              "      <td>P. Susheela</td>\n",
              "      <td>0.515</td>\n",
              "      <td>0.765</td>\n",
              "      <td>11</td>\n",
              "      <td>-3.515</td>\n",
              "      <td>0</td>\n",
              "      <td>0.1240</td>\n",
              "      <td>0.857</td>\n",
              "      <td>0.000872</td>\n",
              "      <td>0.2130</td>\n",
              "      <td>0.906</td>\n",
              "      <td>114.617</td>\n",
              "      <td>245600</td>\n",
              "      <td>4</td>\n",
              "      <td>14</td>\n",
              "      <td>0</td>\n",
              "    </tr>\n",
              "  </tbody>\n",
              "</table>\n",
              "</div>"
            ],
            "text/plain": [
              "                   track            artist  ...  sections  target\n",
              "0  Jealous Kind Of Fella     Garland Green  ...         9       1\n",
              "1          Initials B.B.  Serge Gainsbourg  ...        10       0\n",
              "2           Melody Twist       Lord Melody  ...        12       0\n",
              "3          Mi Bomba Sonó        Celia Cruz  ...         8       0\n",
              "4            Uravu Solla       P. Susheela  ...        14       0\n",
              "\n",
              "[5 rows x 17 columns]"
            ]
          },
          "metadata": {
            "tags": []
          },
          "execution_count": 19
        }
      ]
    },
    {
      "cell_type": "code",
      "metadata": {
        "id": "qYAQ8kGgIeNn",
        "colab_type": "code",
        "colab": {
          "base_uri": "https://localhost:8080/",
          "height": 102
        },
        "outputId": "7e8d8d67-3dea-4a13-d9e5-27fcf131d493"
      },
      "source": [
        "complete_list.columns # Complete list of 1960s-2019s dataset. Removed column 'chorus_hit'"
      ],
      "execution_count": 76,
      "outputs": [
        {
          "output_type": "execute_result",
          "data": {
            "text/plain": [
              "Index(['track', 'artist', 'danceability', 'energy', 'key', 'loudness', 'mode',\n",
              "       'speechiness', 'acousticness', 'instrumentalness', 'liveness',\n",
              "       'valence', 'tempo', 'duration_ms', 'time_signature', 'sections',\n",
              "       'target'],\n",
              "      dtype='object')"
            ]
          },
          "metadata": {
            "tags": []
          },
          "execution_count": 76
        }
      ]
    }
  ]
}